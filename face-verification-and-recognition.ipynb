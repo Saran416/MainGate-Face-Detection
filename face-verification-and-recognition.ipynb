{
 "cells": [
  {
   "cell_type": "markdown",
   "metadata": {
    "id": "Oc1ugsgmfCd7"
   },
   "source": [
    "<a name='1'></a>\n",
    "# 1 - Importing libraries"
   ]
  },
  {
   "cell_type": "code",
   "execution_count": 16,
   "metadata": {
    "execution": {
     "iopub.execute_input": "2024-12-21T17:03:16.380981Z",
     "iopub.status.busy": "2024-12-21T17:03:16.380579Z",
     "iopub.status.idle": "2024-12-21T17:03:28.678941Z",
     "shell.execute_reply": "2024-12-21T17:03:28.677674Z",
     "shell.execute_reply.started": "2024-12-21T17:03:16.380943Z"
    },
    "executionInfo": {
     "elapsed": 276,
     "status": "ok",
     "timestamp": 1690727247385,
     "user": {
      "displayName": "Diaa Essam",
      "userId": "00529409558760259485"
     },
     "user_tz": -180
    },
    "id": "2E7KsQwZfCd7",
    "outputId": "05b471ed-e62f-4e2e-d4cd-40bb2f597747",
    "trusted": true
   },
   "outputs": [
    {
     "name": "stdout",
     "output_type": "stream",
     "text": [
      "The autoreload extension is already loaded. To reload it, use:\n",
      "  %reload_ext autoreload\n"
     ]
    }
   ],
   "source": [
    "import tensorflow as tf\n",
    "from tensorflow.keras.models import Sequential\n",
    "from tensorflow.keras.layers import Conv2D, ZeroPadding2D, Activation, Input, concatenate\n",
    "from tensorflow.keras.models import Model\n",
    "from tensorflow.keras.layers import BatchNormalization\n",
    "from tensorflow.keras.layers import MaxPooling2D, AveragePooling2D\n",
    "from tensorflow.keras.layers import Concatenate\n",
    "from tensorflow.keras.layers import Lambda, Flatten, Dense\n",
    "from tensorflow.keras.initializers import glorot_uniform\n",
    "from tensorflow.keras.layers import Layer\n",
    "from tensorflow.keras import backend as K\n",
    "K.set_image_data_format('channels_last')\n",
    "import os\n",
    "import numpy as np\n",
    "from numpy import genfromtxt\n",
    "import PIL\n",
    "\n",
    "%matplotlib inline\n",
    "%load_ext autoreload\n",
    "%autoreload 2"
   ]
  },
  {
   "cell_type": "markdown",
   "metadata": {},
   "source": [
    "<a name='2'></a>\n",
    "# 2 - Loading Pretrained Facenet Model"
   ]
  },
  {
   "cell_type": "code",
   "execution_count": 2,
   "metadata": {
    "execution": {
     "iopub.execute_input": "2024-12-21T17:03:28.681504Z",
     "iopub.status.busy": "2024-12-21T17:03:28.680450Z",
     "iopub.status.idle": "2024-12-21T17:03:52.165248Z",
     "shell.execute_reply": "2024-12-21T17:03:52.163904Z",
     "shell.execute_reply.started": "2024-12-21T17:03:28.681458Z"
    },
    "executionInfo": {
     "elapsed": 15679,
     "status": "ok",
     "timestamp": 1690727308458,
     "user": {
      "displayName": "Diaa Essam",
      "userId": "00529409558760259485"
     },
     "user_tz": -180
    },
    "id": "T8UCzoyqfCd_",
    "outputId": "c20a4ea6-8b34-4e34-d891-a71ddac5f096",
    "trusted": true
   },
   "outputs": [
    {
     "name": "stdout",
     "output_type": "stream",
     "text": [
      "WARNING:tensorflow:SavedModel saved prior to TF 2.5 detected when loading Keras model. Please ensure that you are saving the model with model.save() or tf.keras.models.save_model(), *NOT* tf.saved_model.save(). To confirm, there should be a file named \"keras_metadata.pb\" in the SavedModel directory.\n",
      "WARNING:tensorflow:No training configuration found in save file, so the model was *not* compiled. Compile it manually.\n"
     ]
    },
    {
     "name": "stderr",
     "output_type": "stream",
     "text": [
      "WARNING:tensorflow:No training configuration found in save file, so the model was *not* compiled. Compile it manually.\n"
     ]
    }
   ],
   "source": [
    "from tensorflow.keras.models import model_from_json\n",
    "model = tf.keras.models.load_model('/Users/harshsingh/Desktop/projects/face/model')\n",
    "FRmodel = model"
   ]
  },
  {
   "cell_type": "code",
   "execution_count": 4,
   "metadata": {
    "execution": {
     "iopub.execute_input": "2024-12-21T17:03:56.637550Z",
     "iopub.status.busy": "2024-12-21T17:03:56.637122Z",
     "iopub.status.idle": "2024-12-21T17:03:56.709658Z",
     "shell.execute_reply": "2024-12-21T17:03:56.708093Z",
     "shell.execute_reply.started": "2024-12-21T17:03:56.637509Z"
    },
    "executionInfo": {
     "elapsed": 19,
     "status": "ok",
     "timestamp": 1690727308458,
     "user": {
      "displayName": "Diaa Essam",
      "userId": "00529409558760259485"
     },
     "user_tz": -180
    },
    "id": "LVRONqzIfCeA",
    "outputId": "6eecd868-1469-42e7-bc96-bd68eb72b58b",
    "trusted": true
   },
   "outputs": [
    {
     "name": "stdout",
     "output_type": "stream",
     "text": [
      "[<KerasTensor: shape=(None, 160, 160, 3) dtype=float32 (created by layer 'input_1')>]\n",
      "[<KerasTensor: shape=(None, 128) dtype=float32 (created by layer 'Bottleneck_BatchNorm')>]\n"
     ]
    }
   ],
   "source": [
    "print(model.inputs)\n",
    "print(model.outputs)"
   ]
  },
  {
   "cell_type": "markdown",
   "metadata": {},
   "source": [
    "<a name='4'></a>\n",
    "# 4 - Function to preprocess images and predict them"
   ]
  },
  {
   "cell_type": "code",
   "execution_count": 3,
   "metadata": {
    "execution": {
     "iopub.execute_input": "2023-08-08T12:38:23.065404Z",
     "iopub.status.busy": "2023-08-08T12:38:23.065015Z",
     "iopub.status.idle": "2023-08-08T12:38:23.143049Z",
     "shell.execute_reply": "2023-08-08T12:38:23.141852Z",
     "shell.execute_reply.started": "2023-08-08T12:38:23.065367Z"
    },
    "executionInfo": {
     "elapsed": 302,
     "status": "ok",
     "timestamp": 1690727353157,
     "user": {
      "displayName": "Diaa Essam",
      "userId": "00529409558760259485"
     },
     "user_tz": -180
    },
    "id": "lUOe34cxfCeD",
    "trusted": true
   },
   "outputs": [],
   "source": [
    "def img_to_encoding(image_path, model):\n",
    "    img = tf.keras.preprocessing.image.load_img(image_path, target_size=(160, 160))\n",
    "    img = np.around(np.array(img) / 255.0, decimals=12)\n",
    "    x_train = np.expand_dims(img, axis=0) # add a dimension of 1 as first dimension\n",
    "    embedding = model.predict_on_batch(x_train)\n",
    "    return embedding / np.linalg.norm(embedding, ord=2)"
   ]
  },
  {
   "cell_type": "markdown",
   "metadata": {},
   "source": [
    "<a name='5'></a>\n",
    "# 5 - Simulation of a Database"
   ]
  },
  {
   "cell_type": "code",
   "execution_count": 17,
   "metadata": {
    "execution": {
     "iopub.execute_input": "2023-08-08T12:38:23.146515Z",
     "iopub.status.busy": "2023-08-08T12:38:23.146088Z",
     "iopub.status.idle": "2023-08-08T12:38:32.864202Z",
     "shell.execute_reply": "2023-08-08T12:38:32.863Z",
     "shell.execute_reply.started": "2023-08-08T12:38:23.146473Z"
    },
    "executionInfo": {
     "elapsed": 6064,
     "status": "ok",
     "timestamp": 1690727928861,
     "user": {
      "displayName": "Diaa Essam",
      "userId": "00529409558760259485"
     },
     "user_tz": -180
    },
    "id": "s6tmL4n1fCeD",
    "trusted": true
   },
   "outputs": [
    {
     "name": "stdout",
     "output_type": "stream",
     "text": [
      "Time taken:  11.571367979049683\n",
      "3\n",
      "Database created successfully!\n"
     ]
    }
   ],
   "source": [
    "import os\n",
    "import time\n",
    "\n",
    "database = {}\n",
    "base_dir = \"/Users/harshsingh/Desktop/projects/face/indian celebrities dataset/cropped_data\"\n",
    "time1 = time.time()\n",
    "for name in sorted(os.listdir(base_dir)):\n",
    "    folder_path = os.path.join(base_dir, name)\n",
    "    \n",
    "    # Ensure the path is a directory\n",
    "    if os.path.isdir(folder_path):\n",
    "        database[name] = []  # Initialize an empty list for the name\n",
    "        count = 0\n",
    "        for image in os.listdir(folder_path):\n",
    "            if(count >=3):\n",
    "                break\n",
    "            \n",
    "            img_path = os.path.join(folder_path, image)\n",
    "            \n",
    "            # Ensure the path is a valid file\n",
    "            if os.path.isfile(img_path):\n",
    "                # Process the image to get its embedding\n",
    "                embedding = img_to_encoding(img_path, FRmodel)\n",
    "                database[name].append(embedding)  # Add embedding to the list\n",
    "                count = count + 1\n",
    "\n",
    "            \n",
    "time2 = time.time()\n",
    "print(\"Time taken: \", time2 - time1)\n",
    "\n",
    "print(count)\n",
    "print(\"Database created successfully!\")\n",
    "\n",
    "\n",
    "# # database[\"Harshil\"] = img_to_encoding(\"/Users/harshsingh/Desktop/face/images/Harshil/Harshil_closeup.jpeg\", FRmodel)\n",
    "# database[\"Harsh\"] = img_to_encoding(\"/Users/harshsingh/Desktop/projects/face/indian celebrities dataset/cropped_data/harsh singh/Photo on 01-01-25 at 2.12 PM #2.jpg\", FRmodel)\n",
    "# # database[\"Aryan\"] = img_to_encoding(\"/Users/harshsingh/Desktop/face/images/Aryan/Aryan_closeup.jpeg\", FRmodel)\n",
    "# # database[\"Sarang\"] = img_to_encoding(\"/Users/harshsingh/Desktop/face/images/Sarang/Sarang_closeup.jpeg\", FRmodel)\n",
    "# # database[\"Papa\"] = img_to_encoding(\"/Users/harshsingh/Desktop/face/images/Papa/Papa_plane.jpeg\", FRmodel)"
   ]
  },
  {
   "cell_type": "code",
   "execution_count": 22,
   "metadata": {},
   "outputs": [],
   "source": [
    "import pickle\n",
    "pickle.dump(database, open(\"embeddings.p\", \"wb\"))  # save it into a file named save.p"
   ]
  },
  {
   "cell_type": "code",
   "execution_count": 33,
   "metadata": {},
   "outputs": [
    {
     "data": {
      "text/plain": [
       "[array([[-0.19397812,  0.07795119, -0.03861203,  0.03168176,  0.10062459,\n",
       "          0.05764981,  0.04491144, -0.1475247 , -0.0287498 ,  0.03251918,\n",
       "          0.16210374, -0.16201636, -0.2355427 , -0.03386742,  0.06503697,\n",
       "          0.07325428, -0.02069932,  0.09088317, -0.20529033, -0.0780784 ,\n",
       "          0.07492785,  0.0162988 , -0.00499669, -0.09035897,  0.0823881 ,\n",
       "          0.02010625, -0.12807316,  0.08026177,  0.00782125,  0.05939395,\n",
       "          0.1691107 ,  0.03226045,  0.05378828, -0.06312048,  0.10791337,\n",
       "          0.06376425,  0.04135158,  0.02993167,  0.06226196, -0.04590574,\n",
       "          0.03715392,  0.03993274, -0.02479943, -0.00648662,  0.0890867 ,\n",
       "          0.02334408, -0.06381509,  0.01893282, -0.0358651 ,  0.1905182 ,\n",
       "         -0.00915415, -0.06598234,  0.01471873,  0.11071928, -0.0535377 ,\n",
       "          0.09893574, -0.06766174, -0.12257478, -0.03734348, -0.10268512,\n",
       "          0.08754516, -0.00817062,  0.04008191, -0.0016124 , -0.07301851,\n",
       "          0.05767398, -0.08738251,  0.12647016,  0.1432113 , -0.02607809,\n",
       "         -0.12558497,  0.02857386, -0.03722787, -0.1803481 , -0.08410984,\n",
       "          0.01747948,  0.08103286, -0.03719454, -0.09894826,  0.22870898,\n",
       "         -0.12245152,  0.00526858, -0.031279  ,  0.14501837,  0.02558284,\n",
       "          0.08336327,  0.07272243,  0.1064807 ,  0.06644975,  0.02140864,\n",
       "          0.0728398 , -0.0082722 ,  0.11936657,  0.18137074, -0.00262242,\n",
       "         -0.04242709, -0.00310488, -0.04056714, -0.08985677, -0.01000985,\n",
       "         -0.03130003,  0.07531889, -0.0243698 , -0.06959321,  0.06801173,\n",
       "         -0.08752546, -0.07209121,  0.02583905,  0.05344573,  0.15047327,\n",
       "         -0.00573963, -0.05382348,  0.00172252,  0.10924141, -0.04525499,\n",
       "          0.05059692,  0.06253424, -0.03703686, -0.13894193, -0.02222241,\n",
       "         -0.02333165,  0.14132622,  0.21532784, -0.05917832, -0.0468377 ,\n",
       "         -0.10836703, -0.00895968,  0.09760243]], dtype=float32),\n",
       " array([[-0.00321573, -0.05401945, -0.06109778,  0.04960697,  0.03437341,\n",
       "          0.04562445,  0.03124404, -0.09200155, -0.10147814,  0.14694296,\n",
       "         -0.06073062, -0.18484466, -0.07212128, -0.10076063,  0.05526531,\n",
       "          0.0452621 ,  0.02047367, -0.10829242, -0.08817518, -0.1352187 ,\n",
       "          0.02164483,  0.1316435 , -0.08173131,  0.00023937,  0.07521224,\n",
       "          0.09076562,  0.00848876,  0.0500247 ,  0.11634368,  0.0929418 ,\n",
       "          0.19030079, -0.02472268,  0.1978067 , -0.08635259,  0.14115994,\n",
       "          0.02492856, -0.02330732,  0.00866597,  0.15248665, -0.00782585,\n",
       "         -0.07139279,  0.08174122, -0.07353691, -0.19064866,  0.00817636,\n",
       "          0.03131067, -0.14249113,  0.09962998, -0.09247212, -0.05033924,\n",
       "          0.09833317,  0.00824573,  0.05901239, -0.04992709, -0.0275036 ,\n",
       "          0.14825997,  0.13741209, -0.13424452,  0.03350768, -0.17969827,\n",
       "         -0.03231218, -0.15839547, -0.05414465,  0.10983645, -0.02400895,\n",
       "         -0.09206519,  0.08850467, -0.03241048, -0.04127223, -0.05678771,\n",
       "          0.09766562, -0.08715431, -0.03512198, -0.14206158,  0.15664889,\n",
       "          0.07770336,  0.09212138,  0.17400894, -0.08820015,  0.1187552 ,\n",
       "         -0.06887517,  0.09238806, -0.11813825,  0.01057969,  0.08441547,\n",
       "         -0.05285257, -0.02456952, -0.01561431, -0.08913878,  0.03393828,\n",
       "         -0.02404791,  0.09400008,  0.01497509,  0.19187924,  0.01223403,\n",
       "         -0.09288654, -0.05665452, -0.00162147, -0.06766355, -0.06595614,\n",
       "          0.00940123, -0.01754299, -0.01947109, -0.06503661, -0.04210901,\n",
       "          0.02206573, -0.1029356 , -0.07224995,  0.05889756,  0.07403811,\n",
       "         -0.07064431,  0.06711915, -0.09355804,  0.06044519,  0.09477747,\n",
       "          0.07369737,  0.04369716, -0.06852875, -0.13992356,  0.11955183,\n",
       "          0.13754012, -0.09067776,  0.06297385, -0.01713815,  0.04920612,\n",
       "         -0.0177283 ,  0.01822636,  0.0494532 ]], dtype=float32),\n",
       " array([[-0.20200194,  0.03104976, -0.00992653,  0.001294  ,  0.02454153,\n",
       "          0.04490664,  0.04195739, -0.21467969,  0.01277207,  0.09056531,\n",
       "          0.05333858, -0.17883936, -0.12041745, -0.10667059, -0.02824874,\n",
       "          0.10648573, -0.06544134,  0.02850348, -0.0913256 , -0.16865622,\n",
       "          0.11129769, -0.03462325,  0.01358339, -0.06808972,  0.05270354,\n",
       "          0.01786218,  0.03930733,  0.02909465, -0.13309656,  0.06775261,\n",
       "         -0.01628384,  0.05686595,  0.05351868, -0.03038986,  0.13248014,\n",
       "          0.03332218,  0.03525503,  0.00141275,  0.16770855, -0.05898019,\n",
       "          0.16519727, -0.01511592, -0.02599562,  0.07867351,  0.12073536,\n",
       "         -0.03854006, -0.04208016,  0.04775155,  0.04249458,  0.13276435,\n",
       "          0.01893037, -0.0442966 , -0.02944397,  0.01683046, -0.03462471,\n",
       "          0.09339658, -0.00864892, -0.12761159,  0.0121877 , -0.09308373,\n",
       "          0.08797766, -0.13002867, -0.04146206, -0.03950479, -0.02939591,\n",
       "          0.01232426, -0.10416523, -0.01467426,  0.04147698, -0.07795666,\n",
       "         -0.15931672, -0.0078339 ,  0.0050872 , -0.18101381,  0.00030481,\n",
       "         -0.0809229 ,  0.05017456,  0.08123256, -0.05284782,  0.07834013,\n",
       "         -0.11552537,  0.0303975 ,  0.0913852 ,  0.16331497, -0.00143969,\n",
       "          0.10106139,  0.13602494,  0.06732751, -0.0687312 ,  0.07372309,\n",
       "          0.02462053,  0.03791493,  0.12494304,  0.13743138,  0.056956  ,\n",
       "         -0.02349738,  0.00116419, -0.10952893, -0.17120174,  0.03610913,\n",
       "         -0.05367592,  0.04567233, -0.02778696, -0.04831219, -0.03647604,\n",
       "         -0.13030548, -0.09616634,  0.16757855, -0.02786248,  0.0853624 ,\n",
       "          0.05397766, -0.14832959,  0.03462208,  0.18836112, -0.0892596 ,\n",
       "          0.06478418,  0.17627873,  0.01337918, -0.16241266, -0.00997254,\n",
       "          0.03115966,  0.00843119,  0.17373197, -0.0021337 , -0.11054453,\n",
       "         -0.11094067,  0.01831842,  0.03786105]], dtype=float32)]"
      ]
     },
     "execution_count": 33,
     "metadata": {},
     "output_type": "execute_result"
    }
   ],
   "source": [
    "database[\"harsh singh\"]"
   ]
  },
  {
   "cell_type": "code",
   "execution_count": 36,
   "metadata": {},
   "outputs": [
    {
     "name": "stdout",
     "output_type": "stream",
     "text": [
      "[-0.19397812  0.07795119 -0.03861203  0.03168176  0.10062459  0.05764981\n",
      "  0.04491144 -0.1475247  -0.0287498   0.03251918  0.16210374 -0.16201636\n",
      " -0.2355427  -0.03386742  0.06503697  0.07325428 -0.02069932  0.09088317\n",
      " -0.20529033 -0.0780784   0.07492785  0.0162988  -0.00499669 -0.09035897\n",
      "  0.0823881   0.02010625 -0.12807316  0.08026177  0.00782125  0.05939395\n",
      "  0.1691107   0.03226045  0.05378828 -0.06312048  0.10791337  0.06376425\n",
      "  0.04135158  0.02993167  0.06226196 -0.04590574  0.03715392  0.03993274\n",
      " -0.02479943 -0.00648662  0.0890867   0.02334408 -0.06381509  0.01893282\n",
      " -0.0358651   0.1905182  -0.00915415 -0.06598234  0.01471873  0.11071928\n",
      " -0.0535377   0.09893574 -0.06766174 -0.12257478 -0.03734348 -0.10268512\n",
      "  0.08754516 -0.00817062  0.04008191 -0.0016124  -0.07301851  0.05767398\n",
      " -0.08738251  0.12647016  0.1432113  -0.02607809 -0.12558497  0.02857386\n",
      " -0.03722787 -0.1803481  -0.08410984  0.01747948  0.08103286 -0.03719454\n",
      " -0.09894826  0.22870898 -0.12245152  0.00526858 -0.031279    0.14501837\n",
      "  0.02558284  0.08336327  0.07272243  0.1064807   0.06644975  0.02140864\n",
      "  0.0728398  -0.0082722   0.11936657  0.18137074 -0.00262242 -0.04242709\n",
      " -0.00310488 -0.04056714 -0.08985677 -0.01000985 -0.03130003  0.07531889\n",
      " -0.0243698  -0.06959321  0.06801173 -0.08752546 -0.07209121  0.02583905\n",
      "  0.05344573  0.15047327 -0.00573963 -0.05382348  0.00172252  0.10924141\n",
      " -0.04525499  0.05059692  0.06253424 -0.03703686 -0.13894193 -0.02222241\n",
      " -0.02333165  0.14132622  0.21532784 -0.05917832 -0.0468377  -0.10836703\n",
      " -0.00895968  0.09760243]and the number of entries are 98\n"
     ]
    }
   ],
   "source": [
    "print(f\"\"\"{database[\"harsh singh\"][0][0] }and the number of entries are {len(database)}\"\"\")"
   ]
  },
  {
   "cell_type": "markdown",
   "metadata": {
    "id": "Cep_LTCNfCeD"
   },
   "source": [
    "Load the images of Danielle and Kian:"
   ]
  },
  {
   "cell_type": "markdown",
   "metadata": {},
   "source": [
    "<a name='6'></a>\n",
    "# 6 - Face Verification"
   ]
  },
  {
   "cell_type": "code",
   "execution_count": 18,
   "metadata": {
    "execution": {
     "iopub.execute_input": "2023-08-08T12:38:33.298611Z",
     "iopub.status.busy": "2023-08-08T12:38:33.297576Z",
     "iopub.status.idle": "2023-08-08T12:38:33.371393Z",
     "shell.execute_reply": "2023-08-08T12:38:33.370407Z",
     "shell.execute_reply.started": "2023-08-08T12:38:33.298573Z"
    },
    "executionInfo": {
     "elapsed": 7,
     "status": "ok",
     "timestamp": 1690727980676,
     "user": {
      "displayName": "Diaa Essam",
      "userId": "00529409558760259485"
     },
     "user_tz": -180
    },
    "id": "kyZz_FuefCeF",
    "nbgrader": {
     "grade": false,
     "grade_id": "cell-ba2f317e79e15a2f",
     "locked": false,
     "schema_version": 3,
     "solution": true,
     "task": false
    },
    "trusted": true
   },
   "outputs": [],
   "source": [
    "def verify(image_path, identity, database, model):\n",
    "    \n",
    "    encoding = img_to_encoding(image_path, model)\n",
    "    dist = 100\n",
    "    for embeddings in database[identity]:\n",
    "        dist = min(np.linalg.norm(tf.subtract(embeddings, encoding)), dist)\n",
    "    if dist < 0.9:\n",
    "        print(\"It's \" + str(identity) + \", welcome in!\")\n",
    "        door_open = True\n",
    "    else:\n",
    "        print(\"It's not \" + str(identity) + \", please go away\")\n",
    "        door_open = False\n",
    "    print(dist)\n",
    "    return dist, door_open"
   ]
  },
  {
   "cell_type": "code",
   "execution_count": 8,
   "metadata": {},
   "outputs": [],
   "source": [
    "peoples = [\"Harsh\", \"Harshil\",\"Aryan\", \"Sarang\", \"Papa\"] ### \"Papa\", \"Saran\", \"Sarang\"]"
   ]
  },
  {
   "cell_type": "code",
   "execution_count": 78,
   "metadata": {},
   "outputs": [
    {
     "name": "stdout",
     "output_type": "stream",
     "text": [
      "It's not Papa, please go away\n",
      "1.3494343\n",
      "It's not Papa, please go away\n",
      "1.3059747\n",
      "It's not Papa, please go away\n",
      "1.0922953\n",
      "It's not Papa, please go away\n",
      "1.179243\n",
      "It's not Papa, please go away\n",
      "1.3380356\n",
      "It's not Papa, please go away\n",
      "1.1703198\n",
      "It's not Papa, please go away\n",
      "1.3531189\n",
      "It's not Papa, please go away\n",
      "1.2834737\n",
      "It's not Papa, please go away\n",
      "1.382893\n",
      "It's not Papa, please go away\n",
      "1.4386061\n",
      "It's not Papa, please go away\n",
      "1.4384489\n",
      "It's not Papa, please go away\n",
      "1.4638108\n",
      "It's not Papa, please go away\n",
      "1.3239197\n",
      "It's not Papa, please go away\n",
      "1.3198936\n",
      "It's not Papa, please go away\n",
      "1.402802\n",
      "It's not Papa, please go away\n",
      "1.485149\n",
      "It's not Papa, please go away\n",
      "1.4150637\n",
      "It's Papa, welcome in!\n",
      "0.0\n",
      "It's Papa, welcome in!\n",
      "0.6383572\n",
      "It's Papa, welcome in!\n",
      "0.55083877\n",
      "It's Papa, welcome in!\n",
      "0.5994069\n"
     ]
    }
   ],
   "source": [
    "base_dir = \"images\"  # Path to the \"images\" folder\n",
    "for person in peoples:\n",
    "    person_folder = os.path.join(base_dir, person)\n",
    "    \n",
    "    # Check if the folder exists\n",
    "    if os.path.exists(person_folder):\n",
    "        # Iterate through each image in the person's folder\n",
    "        for image_name in os.listdir(person_folder):\n",
    "            image_path = os.path.join(person_folder, image_name)\n",
    "            \n",
    "            # Check if it's an image file (optional check based on file extension)\n",
    "            if image_name.lower().endswith(('.png', '.jpg', '.jpeg')):\n",
    "                # Call the verify function for each image\n",
    "                verify(image_path, \"Papa\", database, FRmodel)\n",
    "            else:\n",
    "                print(f\"Skipping non-image file: {image_name}\")\n"
   ]
  },
  {
   "cell_type": "code",
   "execution_count": 21,
   "metadata": {
    "deletable": false,
    "execution": {
     "iopub.execute_input": "2023-08-08T12:38:33.501964Z",
     "iopub.status.busy": "2023-08-08T12:38:33.501572Z",
     "iopub.status.idle": "2023-08-08T12:38:33.630354Z",
     "shell.execute_reply": "2023-08-08T12:38:33.62937Z",
     "shell.execute_reply.started": "2023-08-08T12:38:33.501933Z"
    },
    "executionInfo": {
     "elapsed": 316,
     "status": "ok",
     "timestamp": 1690728191961,
     "user": {
      "displayName": "Diaa Essam",
      "userId": "00529409558760259485"
     },
     "user_tz": -180
    },
    "id": "H0tCHd8zfCeF",
    "outputId": "5564e0ca-be16-4688-d8e1-c4e952aa1c92",
    "trusted": true
   },
   "outputs": [
    {
     "name": "stdout",
     "output_type": "stream",
     "text": [
      "It's not harsh singh, please go away\n",
      "1.086505\n"
     ]
    },
    {
     "data": {
      "text/plain": [
       "(1.086505, False)"
      ]
     },
     "execution_count": 21,
     "metadata": {},
     "output_type": "execute_result"
    }
   ],
   "source": [
    "verify(\"/Users/harshsingh/Desktop/projects/face/img_45.jpeg\", \"harsh singh\", database, FRmodel)"
   ]
  },
  {
   "cell_type": "markdown",
   "metadata": {},
   "source": [
    "<a name='7'></a>\n",
    "# 7 - Face Recognition"
   ]
  },
  {
   "cell_type": "code",
   "execution_count": 39,
   "metadata": {
    "execution": {
     "iopub.execute_input": "2023-08-08T12:38:33.633304Z",
     "iopub.status.busy": "2023-08-08T12:38:33.632318Z",
     "iopub.status.idle": "2023-08-08T12:38:33.711704Z",
     "shell.execute_reply": "2023-08-08T12:38:33.710758Z",
     "shell.execute_reply.started": "2023-08-08T12:38:33.633267Z"
    },
    "executionInfo": {
     "elapsed": 310,
     "status": "ok",
     "timestamp": 1690728201646,
     "user": {
      "displayName": "Diaa Essam",
      "userId": "00529409558760259485"
     },
     "user_tz": -180
    },
    "id": "xrYbqqsVfCeG",
    "nbgrader": {
     "grade": false,
     "grade_id": "cell-a04ff2b5fd1186f8",
     "locked": false,
     "schema_version": 3,
     "solution": true,
     "task": false
    },
    "trusted": true
   },
   "outputs": [],
   "source": [
    "def who_is_it(image_path, database, model):\n",
    "    \n",
    "    encoding =  img_to_encoding(image_path, model)\n",
    "\n",
    "    min_dist = 1000\n",
    "    identity = None\n",
    "    for (name, db_enc) in database.items():\n",
    "        for embeddings in db_enc:\n",
    "            dist = np.linalg.norm(tf.subtract(embeddings, encoding))\n",
    "\n",
    "            if dist < min_dist:\n",
    "                min_dist = dist\n",
    "                identity = name\n",
    "\n",
    "    if min_dist > 0.95:\n",
    "        print(f\"Closest:  {min_dist} {identity}\")\n",
    "\n",
    "    else:\n",
    "        print (\"it's \" + str(identity) + \", the distance is \" + str(min_dist))\n",
    "\n",
    "    return min_dist, identity"
   ]
  },
  {
   "cell_type": "code",
   "execution_count": null,
   "metadata": {},
   "outputs": [],
   "source": []
  },
  {
   "cell_type": "code",
   "execution_count": 48,
   "metadata": {
    "deletable": false,
    "execution": {
     "iopub.execute_input": "2023-08-08T12:38:33.715228Z",
     "iopub.status.busy": "2023-08-08T12:38:33.714773Z",
     "iopub.status.idle": "2023-08-08T12:38:33.930419Z",
     "shell.execute_reply": "2023-08-08T12:38:33.92942Z",
     "shell.execute_reply.started": "2023-08-08T12:38:33.715191Z"
    },
    "executionInfo": {
     "elapsed": 443,
     "status": "ok",
     "timestamp": 1690728812359,
     "user": {
      "displayName": "Diaa Essam",
      "userId": "00529409558760259485"
     },
     "user_tz": -180
    },
    "id": "b7v4YQijfCeG",
    "nbgrader": {
     "grade": true,
     "grade_id": "cell-9c88c8ab87677503",
     "locked": true,
     "points": 1,
     "schema_version": 3,
     "solution": false,
     "task": false
    },
    "outputId": "075e7036-f1e3-45e3-849e-752bb32ac916",
    "trusted": true
   },
   "outputs": [
    {
     "name": "stdout",
     "output_type": "stream",
     "text": [
      "Closest:  0.9610204100608826 harsh singh\n"
     ]
    },
    {
     "data": {
      "text/plain": [
       "(0.9610204, 'harsh singh')"
      ]
     },
     "execution_count": 48,
     "metadata": {},
     "output_type": "execute_result"
    }
   ],
   "source": [
    "test_path = \"/Users/harshsingh/Desktop/projects/face/img_20.jpeg\"\n",
    "\n",
    "\n",
    "# Test 1 with Younes pictures\n",
    "who_is_it(test_path, database, FRmodel)"
   ]
  },
  {
   "cell_type": "code",
   "execution_count": null,
   "metadata": {},
   "outputs": [],
   "source": []
  }
 ],
 "metadata": {
  "kaggle": {
   "accelerator": "nvidiaTeslaT4",
   "dataSources": [
    {
     "datasetId": 19136,
     "sourceId": 796646,
     "sourceType": "datasetVersion"
    },
    {
     "datasetId": 3575428,
     "sourceId": 6225021,
     "sourceType": "datasetVersion"
    }
   ],
   "dockerImageVersionId": 30527,
   "isGpuEnabled": true,
   "isInternetEnabled": false,
   "language": "python",
   "sourceType": "notebook"
  },
  "kernelspec": {
   "display_name": "tf3",
   "language": "python",
   "name": "python3"
  },
  "language_info": {
   "codemirror_mode": {
    "name": "ipython",
    "version": 3
   },
   "file_extension": ".py",
   "mimetype": "text/x-python",
   "name": "python",
   "nbconvert_exporter": "python",
   "pygments_lexer": "ipython3",
   "version": "3.9.21"
  }
 },
 "nbformat": 4,
 "nbformat_minor": 4
}
